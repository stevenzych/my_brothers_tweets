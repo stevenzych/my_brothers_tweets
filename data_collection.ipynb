{
 "cells": [
  {
   "cell_type": "markdown",
   "metadata": {},
   "source": [
    "# Introduction\n",
    "\n",
    "This notebook follows standard Twython procedure for data collection. In this specific instance, we are querying Twitter for all historic tweets from one specific user (my sibling) who has consented to offering their tweets as practice NLP data.\n",
    "\n",
    "## Imports"
   ]
  },
  {
   "cell_type": "code",
   "execution_count": 1,
   "metadata": {},
   "outputs": [],
   "source": [
    "import json\n",
    "from twython import Twython\n",
    "import time"
   ]
  },
  {
   "cell_type": "markdown",
   "metadata": {},
   "source": [
    "## Import API Keys From `secret.json`"
   ]
  },
  {
   "cell_type": "code",
   "execution_count": 2,
   "metadata": {},
   "outputs": [],
   "source": [
    "with open('secret.json') as f:\n",
    "    keys = json.load(f)"
   ]
  },
  {
   "cell_type": "markdown",
   "metadata": {},
   "source": [
    "## Instantiate `Twython` Object"
   ]
  },
  {
   "cell_type": "code",
   "execution_count": 3,
   "metadata": {},
   "outputs": [],
   "source": [
    "t = Twython(app_key = keys['TWITTER_APP_KEY'], \n",
    "            app_secret = keys['TWITTER_APP_KEY_SECRET'], \n",
    "            oauth_token = keys['TWITTER_ACCESS_TOKEN'], \n",
    "            oauth_token_secret = keys['TWITTER_ACCESS_TOKEN_SECRET'])"
   ]
  },
  {
   "cell_type": "markdown",
   "metadata": {},
   "source": [
    "# Retrieve Data\n",
    "\n",
    "At time of writing, my sibling has **5,207 tweets.** We will retrieve all of these in time-staggered batches of 150 tweets each (due to limitations on free Twitter dev accounts). An unknown number of these will be dropped because some are surely retweets, and we don't want those."
   ]
  },
  {
   "cell_type": "code",
   "execution_count": null,
   "metadata": {},
   "outputs": [],
   "source": [
    "# Our first batch has no last_id, and pulls tweets up to his most recent\n",
    "last_id = None\n",
    "\n",
    "# 35 batches of tweet retrieval\n",
    "for i in range(35):\n",
    "    \n",
    "    # Query for his tweets, no retweets\n",
    "    search = t.search(q = 'from:taxpurposes -filter:retweets',\n",
    "                      max_id = last_id,\n",
    "                      tweet_mode = 'extended',\n",
    "                      count = 150)\n",
    "    \n",
    "    # Save tweets locally as JSON\n",
    "    with open('tweets.json') as f:\n",
    "        data = json.load(f)\n",
    "    data.update(search)\n",
    "    with open('tweets.json', 'w') as f:\n",
    "        json.dump(data, f)\n",
    "        \n",
    "    # Retrieve last tweet ID, next search stops here\n",
    "    last_id = search['statuses'][-1]['id']\n",
    "    \n",
    "    # Wait, so as to appease the Twitter Dev Gods\n",
    "    time.sleep(310)"
   ]
  },
  {
   "cell_type": "markdown",
   "metadata": {},
   "source": [
    "# JSON TEST"
   ]
  },
  {
   "cell_type": "code",
   "execution_count": 51,
   "metadata": {},
   "outputs": [],
   "source": [
    "## This works\n",
    "\n",
    "# with open('tweets.json') as f:\n",
    "#      data = json.load(f)\n",
    "\n",
    "# data.update(c_dict)\n",
    "\n",
    "# with open('tweets.json', 'w') as f:\n",
    "#     json.dump(data, f)"
   ]
  }
 ],
 "metadata": {
  "kernelspec": {
   "display_name": "Python 3",
   "language": "python",
   "name": "python3"
  },
  "language_info": {
   "codemirror_mode": {
    "name": "ipython",
    "version": 3
   },
   "file_extension": ".py",
   "mimetype": "text/x-python",
   "name": "python",
   "nbconvert_exporter": "python",
   "pygments_lexer": "ipython3",
   "version": "3.7.6"
  },
  "toc": {
   "base_numbering": 1,
   "nav_menu": {},
   "number_sections": true,
   "sideBar": true,
   "skip_h1_title": false,
   "title_cell": "Table of Contents",
   "title_sidebar": "Contents",
   "toc_cell": false,
   "toc_position": {},
   "toc_section_display": true,
   "toc_window_display": false
  },
  "varInspector": {
   "cols": {
    "lenName": 16,
    "lenType": 16,
    "lenVar": 40
   },
   "kernels_config": {
    "python": {
     "delete_cmd_postfix": "",
     "delete_cmd_prefix": "del ",
     "library": "var_list.py",
     "varRefreshCmd": "print(var_dic_list())"
    },
    "r": {
     "delete_cmd_postfix": ") ",
     "delete_cmd_prefix": "rm(",
     "library": "var_list.r",
     "varRefreshCmd": "cat(var_dic_list()) "
    }
   },
   "types_to_exclude": [
    "module",
    "function",
    "builtin_function_or_method",
    "instance",
    "_Feature"
   ],
   "window_display": false
  }
 },
 "nbformat": 4,
 "nbformat_minor": 4
}
